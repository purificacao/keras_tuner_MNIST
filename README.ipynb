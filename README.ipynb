{
 "cells": [
  {
   "cell_type": "markdown",
   "metadata": {},
   "source": [
    "# PoC showing how to set up Keras Tuner for fine tune CNN hyperparameters: a computer vision task.\n",
    "\n",
    "This repository compares the results given by the three available Classes in keras Tuner library, which are: \n",
    "\n",
    " - **RandomSearch**\n",
    " - **Hyperband**\n",
    " - **BayesianOptimization**\n",
    "\n",
    "For this example, I am using the MNIST dataset, which is composed of 60,000 28x28 grayscale images of the 10 digits, along with a test set of 10,000 images. The BayesianOptimization gives a slightly better result, while the RandomSearch Class returns the worst."
   ]
  },
  {
   "cell_type": "code",
   "execution_count": null,
   "metadata": {},
   "outputs": [],
   "source": []
  }
 ],
 "metadata": {
  "kernelspec": {
   "display_name": "tuner",
   "language": "python",
   "name": "tuner"
  },
  "language_info": {
   "codemirror_mode": {
    "name": "ipython",
    "version": 3
   },
   "file_extension": ".py",
   "mimetype": "text/x-python",
   "name": "python",
   "nbconvert_exporter": "python",
   "pygments_lexer": "ipython3",
   "version": "3.7.3"
  }
 },
 "nbformat": 4,
 "nbformat_minor": 4
}
